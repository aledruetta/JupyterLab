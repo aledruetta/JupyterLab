{
 "cells": [
  {
   "cell_type": "code",
   "execution_count": 3,
   "metadata": {},
   "outputs": [],
   "source": [
    "from collections import namedtuple"
   ]
  },
  {
   "cell_type": "code",
   "execution_count": 5,
   "metadata": {},
   "outputs": [
    {
     "name": "stdout",
     "output_type": "stream",
     "text": [
      "John Smith john@usenet.com\n"
     ]
    }
   ],
   "source": [
    "User = namedtuple('User', 'name login password email')\n",
    "john = User('John Smith', 'john', '1234', 'john@usenet.com')\n",
    "print(john.name, john[3])"
   ]
  },
  {
   "cell_type": "code",
   "execution_count": 8,
   "metadata": {},
   "outputs": [
    {
     "name": "stdout",
     "output_type": "stream",
     "text": [
      "('name', 'login', 'password', 'email')\n",
      "{'name': 'John Smith', 'login': 'john', 'password': '1234', 'email': 'john@usenet.com'}\n"
     ]
    }
   ],
   "source": [
    "print(john._fields)\n",
    "print(john._asdict())"
   ]
  },
  {
   "cell_type": "code",
   "execution_count": 14,
   "metadata": {},
   "outputs": [
    {
     "name": "stdout",
     "output_type": "stream",
     "text": [
      "(1, 2, 3) 3 2 1\n"
     ]
    }
   ],
   "source": [
    "t = (1, 2, 3)\n",
    "nt = reversed(t)\n",
    "print(t, *nt)"
   ]
  },
  {
   "cell_type": "code",
   "execution_count": 29,
   "metadata": {},
   "outputs": [
    {
     "name": "stdout",
     "output_type": "stream",
     "text": [
      "['', '    john    26      male    kansas', '    mary    34      feme    cincinatti', '    eve     17      feme    new york', '']\n",
      "john    \n",
      "26      \n",
      "male    \n",
      "kansas\n"
     ]
    }
   ],
   "source": [
    "text = \"\"\"\n",
    "    john    26      male    kansas\n",
    "    mary    34      feme    cincinatti\n",
    "    eve     17      feme    new york\n",
    "\"\"\"\n",
    "fields = text.split('\\n')\n",
    "print(fields)\n",
    "\n",
    "name = slice(4, 12)\n",
    "age = slice(12, 20)\n",
    "sex = slice(20, 28)\n",
    "city = slice(28, None)\n",
    "\n",
    "print(fields[1][name])\n",
    "print(fields[1][age])\n",
    "print(fields[1][sex])\n",
    "print(fields[1][city])"
   ]
  },
  {
   "cell_type": "code",
   "execution_count": null,
   "metadata": {},
   "outputs": [],
   "source": []
  }
 ],
 "metadata": {
  "kernelspec": {
   "display_name": "Python 3",
   "language": "python",
   "name": "python3"
  },
  "language_info": {
   "codemirror_mode": {
    "name": "ipython",
    "version": 3
   },
   "file_extension": ".py",
   "mimetype": "text/x-python",
   "name": "python",
   "nbconvert_exporter": "python",
   "pygments_lexer": "ipython3",
   "version": "3.8.2"
  }
 },
 "nbformat": 4,
 "nbformat_minor": 4
}
